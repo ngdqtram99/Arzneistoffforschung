{
 "cells": [
  {
   "cell_type": "code",
   "execution_count": 24,
   "id": "46467816",
   "metadata": {},
   "outputs": [],
   "source": [
    "def _lines(data_name):\n",
    "    with open(data_name,'r') as linesFile:\n",
    "        big_lines = []\n",
    "        for line in linesFile: big_lines.append(line.split())\n",
    "\n",
    "        lines = []\n",
    "        for i in range(int(len(big_lines)/5000)):\n",
    "            lines.append(big_lines[i*5000:(i+1)*5000]) \n",
    "        return lines"
   ]
  },
  {
   "cell_type": "code",
   "execution_count": 5,
   "id": "a0d34d61",
   "metadata": {},
   "outputs": [],
   "source": [
    "lines = _lines('D:/lines_50k.txt') # Data von 50k lines in ZINC-Datenbank"
   ]
  },
  {
   "cell_type": "code",
   "execution_count": 19,
   "id": "299760d5",
   "metadata": {},
   "outputs": [],
   "source": [
    "lines1 = lines[:3]"
   ]
  },
  {
   "cell_type": "code",
   "execution_count": 6,
   "id": "c593e446",
   "metadata": {},
   "outputs": [],
   "source": [
    "def _mols(lines):\n",
    "    mols = [line[0] for line in lines if line[0] != '0']\n",
    "    return mols"
   ]
  },
  {
   "cell_type": "code",
   "execution_count": 21,
   "id": "ad0bc645",
   "metadata": {},
   "outputs": [],
   "source": [
    "mols = [_mols(l) for l in lines1]"
   ]
  },
  {
   "cell_type": "code",
   "execution_count": 9,
   "id": "b1a31146",
   "metadata": {},
   "outputs": [],
   "source": [
    "from rdkit import Chem\n",
    "from rdkit.Chem import AllChem\n",
    "from rdkit.Chem import Descriptors\n",
    "from rdkit.Chem import MACCSkeys\n",
    "\n",
    "def mkDescriptors(m):\n",
    "    \n",
    "    m.Compute2DCoords()\n",
    "    fps = MACCSkeys.GenMACCSKeys(m)\n",
    "    maccs = list(fps)\n",
    "    desc = maccs\n",
    "    desc.append(Descriptors.PEOE_VSA1(m))\n",
    "    desc.append(Descriptors.PEOE_VSA2(m))\n",
    "    # ... natürlich alle PEOEs\n",
    "    # ... und Chi0, Kappa1, MolLogP\n",
    "    desc.append(Descriptors.PEOE_VSA3(m))\n",
    "    desc.append(Descriptors.PEOE_VSA4(m))\n",
    "    desc.append(Descriptors.PEOE_VSA5(m))\n",
    "    desc.append(Descriptors.PEOE_VSA6(m))\n",
    "    desc.append(Descriptors.PEOE_VSA7(m))\n",
    "    desc.append(Descriptors.PEOE_VSA8(m))\n",
    "    desc.append(Descriptors.PEOE_VSA9(m))\n",
    "    desc.append(Descriptors.PEOE_VSA10(m))\n",
    "    desc.append(Descriptors.PEOE_VSA11(m))\n",
    "    desc.append(Descriptors.PEOE_VSA12(m))\n",
    "    desc.append(Descriptors.PEOE_VSA13(m))\n",
    "    desc.append(Descriptors.PEOE_VSA14(m))\n",
    "    \n",
    "    desc.append(Descriptors.Chi0(m))\n",
    "    desc.append(Descriptors.Kappa1(m))\n",
    "    desc.append(Descriptors.MolLogP(m))\n",
    "    \n",
    "    return desc"
   ]
  },
  {
   "cell_type": "code",
   "execution_count": 17,
   "id": "09f69ffb",
   "metadata": {},
   "outputs": [],
   "source": [
    "def _allMols(mols):\n",
    "    return [Chem.MolFromSmiles(smi) for smi in mols if Chem.MolFromSmiles(smi) != None]\n",
    "def _allDesc(allMols):\n",
    "    return [mkDescriptors(mol) for mol in allMols]"
   ]
  },
  {
   "cell_type": "code",
   "execution_count": 25,
   "id": "a26191aa",
   "metadata": {},
   "outputs": [],
   "source": [
    "def _outFile(mols,  smile_data_name, test_data_name):\n",
    "    allMols = _allMols(mols)\n",
    "    with open(smile_data_name, 'w') as smile_outFile:\n",
    "        for mols in allMols:\n",
    "            smile_outFile.write(str(Chem.MolToSmiles(mols)) + '\\n')\n",
    "        \n",
    "        \n",
    "    allDesc = _allDesc(allMols)\n",
    "    \n",
    "    with open(test_data_name, 'w') as outFile:\n",
    "        for desc in allDesc: \n",
    "            for i in range(len(desc)): \n",
    "                if i != len(desc)-1: outFile.write(str(desc[i]) + ',')\n",
    "                else: outFile.write(str(desc[i]))\n",
    "            outFile.write('\\n')"
   ]
  },
  {
   "cell_type": "code",
   "execution_count": 26,
   "id": "f0ce43dd",
   "metadata": {},
   "outputs": [],
   "source": [
    "for i in range(len(mols)):\n",
    "    _outFile(mols[i], f'smile{i}.txt',f'x_test{i}.dat')"
   ]
  },
  {
   "cell_type": "code",
   "execution_count": null,
   "id": "7c255bef",
   "metadata": {},
   "outputs": [],
   "source": []
  }
 ],
 "metadata": {
  "kernelspec": {
   "display_name": "my-rdkit-env",
   "language": "python",
   "name": "my-rdkit-env"
  },
  "language_info": {
   "codemirror_mode": {
    "name": "ipython",
    "version": 3
   },
   "file_extension": ".py",
   "mimetype": "text/x-python",
   "name": "python",
   "nbconvert_exporter": "python",
   "pygments_lexer": "ipython3",
   "version": "3.7.16"
  }
 },
 "nbformat": 4,
 "nbformat_minor": 5
}
