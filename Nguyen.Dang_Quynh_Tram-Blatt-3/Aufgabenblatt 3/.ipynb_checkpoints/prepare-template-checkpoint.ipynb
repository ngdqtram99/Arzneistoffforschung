{
 "cells": [
  {
   "cell_type": "markdown",
   "metadata": {},
   "source": [
    "# Vorbereiten der Daten mit RKit"
   ]
  },
  {
   "cell_type": "markdown",
   "metadata": {},
   "source": [
    "RDKit muss installiert sein.\n",
    "Vorzugsweise in einem virt. Env. (z.B. my-rdkit-env). Der Prompt zeigt sich dann so:    \n",
    "`(my-rdkit-env) andreas@hugh:~/Documents/Vorlesung/.../Work $`"
   ]
  },
  {
   "cell_type": "markdown",
   "metadata": {},
   "source": [
    "Derselbe Workflow muss für die Trainigsdaten und Testdaten durchgeführt werden (hier nur Test, weil dieser kleiner ist):\n",
    "\n",
    "+ Laden der Rohdaten\n",
    "+ Beide Daten enthalten einen Datensatz pro Zeile.\n",
    "+ Extraktion der Spalten mit SMILES und Wirkung\n",
    "+ Speichern der Wirkung (als log10) in eigener Datei (das wird später y_train bzw. y_test).\n",
    "+ Berechnen der 2D-Struktur aus den Smiles mit DRkit\n",
    "+ Berechnen von Deskriptoren mit RDkit\n",
    "+ Speichern der Deskriptoren in eigener Datei (das wird später x_train bzw. x_test).\n"
   ]
  },
  {
   "cell_type": "markdown",
   "metadata": {},
   "source": [
    "## Lesen\n",
    "\n",
    "mit intelligent:\n",
    "+ erste Zeile wird übersprungen\n",
    "+ Zeilen mit Ki = 0 werden übersprungen"
   ]
  },
  {
   "cell_type": "code",
   "execution_count": 1,
   "metadata": {},
   "outputs": [
    {
     "name": "stdout",
     "output_type": "stream",
     "text": [
      "['excel', 'excel-tab', 'unix']\n"
     ]
    },
    {
     "data": {
      "text/plain": [
       "997"
      ]
     },
     "execution_count": 1,
     "metadata": {},
     "output_type": "execute_result"
    }
   ],
   "source": [
    "import csv\n",
    "import numpy as np\n",
    "\n",
    "print(csv.list_dialects())\n",
    "############ valid data\n",
    "csvFile =  './TryptaseDataset/valid.csv'\n",
    "mol = []\n",
    "with open(csvFile, 'r') as inFile: \n",
    "    molReader = csv.reader(inFile, dialect = 'excel-tab')\n",
    "    \n",
    "    next(molReader)\n",
    "    mols = [line for line in molReader if line[2] != '0']\n",
    "    \n",
    "\n",
    "mol = mols[0]\n",
    "len(mols)"
   ]
  },
  {
   "cell_type": "code",
   "execution_count": 2,
   "metadata": {
    "scrolled": false
   },
   "outputs": [
    {
     "data": {
      "text/plain": [
       "['3894',\n",
       " 'C[C@H]1ON=C([C@@H]1C(=O)Nc2ccc(cc2)c3ccccc3S(=O)(=O)N)c4cccc(c4)C(=N)N',\n",
       " '4500']"
      ]
     },
     "execution_count": 2,
     "metadata": {},
     "output_type": "execute_result"
    }
   ],
   "source": [
    "mol"
   ]
  },
  {
   "cell_type": "code",
   "execution_count": 3,
   "metadata": {
    "scrolled": false
   },
   "outputs": [
    {
     "data": {
      "text/plain": [
       "3610"
      ]
     },
     "execution_count": 3,
     "metadata": {},
     "output_type": "execute_result"
    }
   ],
   "source": [
    "########### train data\n",
    "train_csvFile = './TryptaseDataset/train.csv'\n",
    "with open(train_csvFile, 'r') as train_inFile:\n",
    "    train_molReader = csv.reader(train_inFile, dialect = 'excel-tab')\n",
    "    next(train_molReader)\n",
    "    train_mols = [line for line in train_molReader if line[2] != '0']\n",
    "\n",
    "len(train_mols)"
   ]
  },
  {
   "cell_type": "markdown",
   "metadata": {},
   "source": [
    "# Alle y-Werte als pKi in einer Datei speichern\n",
    "\n",
    "mit intelligent:\n",
    "+ alle Werte auf Molar umrechnen\n",
    "+ neg. Log, damit es klare Unterschiede gibt (pKi = -logKi)"
   ]
  },
  {
   "cell_type": "code",
   "execution_count": 4,
   "metadata": {},
   "outputs": [
    {
     "name": "stdout",
     "output_type": "stream",
     "text": [
      "[22000.0, 4000.0, 17.7, 16000.0]\n",
      "[2.2000000000000003e-05, 4.000000000000001e-06, 1.77e-08, 1.6000000000000003e-05]\n",
      "[10.724468104605958, 12.429216196844383, 17.849701197366628, 11.042921835724492]\n"
     ]
    }
   ],
   "source": [
    "######### valid data\n",
    "Ki_nM = [float(x[2]) for x in mols]\n",
    "Ki = [x*10**-9 for x in Ki_nM] # 1 nM = 10^-9 M\n",
    "pKi = [-np.log(x) for x in Ki] \n",
    "\n",
    "print(Ki_nM[1:5])\n",
    "print(Ki[1:5])\n",
    "print(pKi[1:5])\n",
    "\n",
    "with open('y_test.dat', 'w') as outFile:\n",
    "    for x in pKi:\n",
    "        outFile.write(str(x) + '\\n')"
   ]
  },
  {
   "cell_type": "code",
   "execution_count": 5,
   "metadata": {},
   "outputs": [],
   "source": [
    "########## train data\n",
    "train_Ki_nM = [float(x[2]) for x in train_mols]\n",
    "train_Ki = [x*10**-9 for x in train_Ki_nM] # 1 nM = 10^-9 M\n",
    "train_pKi = [-np.log(x) for x in train_Ki]\n",
    "\n",
    "with open('y_train.dat', 'w') as train_outFile:\n",
    "    for x in train_pKi:\n",
    "        train_outFile.write(str(x) + '\\n')"
   ]
  },
  {
   "cell_type": "code",
   "execution_count": 21,
   "metadata": {},
   "outputs": [
    {
     "data": {
      "text/plain": [
       "[15.89495209964411,\n",
       " 12.716898269296165,\n",
       " 8.111728083308073,\n",
       " 13.17365667179188,\n",
       " 10.819778284410283,\n",
       " 12.53457671250221,\n",
       " 11.974960924566787,\n",
       " 13.073573213234896,\n",
       " 20.89761922409119,\n",
       " 11.330603908176274,\n",
       " 9.656627474604601,\n",
       " 13.05938857824294]"
      ]
     },
     "execution_count": 21,
     "metadata": {},
     "output_type": "execute_result"
    }
   ],
   "source": [
    "train_pKi[:12]"
   ]
  },
  {
   "cell_type": "markdown",
   "metadata": {},
   "source": [
    "# RDKit testen"
   ]
  },
  {
   "cell_type": "markdown",
   "metadata": {},
   "source": [
    "### Smiles erkennen:"
   ]
  },
  {
   "cell_type": "code",
   "execution_count": 6,
   "metadata": {},
   "outputs": [
    {
     "name": "stdout",
     "output_type": "stream",
     "text": [
      "<rdkit.Chem.rdchem.Mol object at 0x0000019AFD8728F0>\n"
     ]
    },
    {
     "data": {
      "image/png": "[encoded data removed]",
      "text/plain": [
       "<rdkit.Chem.rdchem.Mol at 0x19afd8728f0>"
      ]
     },
     "execution_count": 6,
     "metadata": {},
     "output_type": "execute_result"
    }
   ],
   "source": [
    "from rdkit import Chem\n",
    "mol = Chem.MolFromSmiles(mols[500][1])\n",
    "\n",
    "print(mol)\n",
    "mol"
   ]
  },
  {
   "cell_type": "markdown",
   "metadata": {},
   "source": [
    "### Berechnen der 2D-Struktur:\n",
    "\n",
    "Compute2DCoords() verändert das mol-Objekt direkt - deshalb besser in der objektorientierten Schreibweise verwenden (sonst ist das ein unschöner Seiteneffekt):"
   ]
  },
  {
   "cell_type": "code",
   "execution_count": 7,
   "metadata": {
    "collapsed": true
   },
   "outputs": [
    {
     "name": "stdout",
     "output_type": "stream",
     "text": [
      "\n",
      "     RDKit          2D\n",
      "\n",
      " 27 29  0  0  0  0  0  0  0  0999 V2000\n",
      "    5.6935   -4.9920    0.0000 Cl  0  0  0  0  0  0  0  0  0  0  0  0\n",
      "    5.3114   -3.5415    0.0000 C   0  0  0  0  0  0  0  0  0  0  0  0\n",
      "    3.8641   -3.1472    0.0000 C   0  0  0  0  0  0  0  0  0  0  0  0\n",
      "    3.4820   -1.6967    0.0000 C   0  0  0  0  0  0  0  0  0  0  0  0\n",
      "    4.5471   -0.6405    0.0000 C   0  0  0  0  0  0  0  0  0  0  0  0\n",
      "    5.9944   -1.0348    0.0000 C   0  0  0  0  0  0  0  0  0  0  0  0\n",
      "    6.3765   -2.4853    0.0000 C   0  0  0  0  0  0  0  0  0  0  0  0\n",
      "    4.1650    0.8100    0.0000 S   0  0  0  0  0  0  0  0  0  0  0  0\n",
      "    5.6155    1.1922    0.0000 O   0  0  0  0  0  0  0  0  0  0  0  0\n",
      "    2.7145    0.4279    0.0000 O   0  0  0  0  0  0  0  0  0  0  0  0\n",
      "    3.7828    2.2605    0.0000 N   0  0  0  0  0  0  0  0  0  0  0  0\n",
      "    2.3356    2.6548    0.0000 C   0  0  0  0  0  0  0  0  0  0  0  0\n",
      "    1.9534    4.1053    0.0000 C   0  0  0  0  0  0  0  0  0  0  0  0\n",
      "    0.5062    4.4996    0.0000 C   0  0  0  0  0  0  0  0  0  0  0  0\n",
      "   -0.5589    3.4435    0.0000 C   0  0  0  0  0  0  0  0  0  0  0  0\n",
      "   -0.1768    1.9929    0.0000 C   0  0  0  0  0  0  0  0  0  0  0  0\n",
      "   -1.2419    0.9368    0.0000 O   0  0  0  0  0  0  0  0  0  0  0  0\n",
      "   -2.6891    1.3311    0.0000 C   0  0  0  0  0  0  0  0  0  0  0  0\n",
      "   -3.7542    0.2749    0.0000 C   0  0  0  0  0  0  0  0  0  0  0  0\n",
      "   -5.2015    0.6692    0.0000 N   0  0  0  0  0  0  0  0  0  0  0  0\n",
      "   -6.2666   -0.3870    0.0000 C   0  0  0  0  0  0  0  0  0  0  0  0\n",
      "   -7.7138    0.0073    0.0000 C   0  0  0  0  0  0  0  0  0  0  0  0\n",
      "   -8.7789   -1.0489    0.0000 C   0  0  0  0  0  0  0  0  0  0  0  0\n",
      "   -8.3968   -2.4994    0.0000 N   0  0  0  0  0  0  0  0  0  0  0  0\n",
      "   -6.9495   -2.8937    0.0000 C   0  0  0  0  0  0  0  0  0  0  0  0\n",
      "   -5.8844   -1.8375    0.0000 C   0  0  0  0  0  0  0  0  0  0  0  0\n",
      "    1.2705    1.5986    0.0000 C   0  0  0  0  0  0  0  0  0  0  0  0\n",
      "  1  2  1  0\n",
      "  2  3  2  0\n",
      "  3  4  1  0\n",
      "  4  5  2  0\n",
      "  5  6  1  0\n",
      "  6  7  2  0\n",
      "  5  8  1  0\n",
      "  8  9  2  0\n",
      "  8 10  2  0\n",
      "  8 11  1  0\n",
      " 11 12  1  0\n",
      " 12 13  2  0\n",
      " 13 14  1  0\n",
      " 14 15  2  0\n",
      " 15 16  1  0\n",
      " 16 17  1  0\n",
      " 17 18  1  0\n",
      " 18 19  1  0\n",
      " 19 20  1  0\n",
      " 20 21  1  0\n",
      " 21 22  2  0\n",
      " 22 23  1  0\n",
      " 23 24  2  0\n",
      " 24 25  1  0\n",
      " 25 26  2  0\n",
      " 16 27  2  0\n",
      "  7  2  1  0\n",
      " 27 12  1  0\n",
      " 26 21  1  0\n",
      "M  END\n",
      "\n"
     ]
    }
   ],
   "source": [
    "from rdkit.Chem import AllChem\n",
    "\n",
    "# nicht so schön:\n",
    "# m = AllChem.Compute2DCoords(smi)\n",
    "mol.Compute2DCoords()\n",
    "\n",
    "print(Chem.MolToMolBlock(mol))"
   ]
  },
  {
   "cell_type": "code",
   "execution_count": 8,
   "metadata": {},
   "outputs": [
    {
     "data": {
      "image/png": "[encoded data removed]",
      "text/plain": [
       "<PIL.PngImagePlugin.PngImageFile image mode=RGB size=300x300>"
      ]
     },
     "execution_count": 8,
     "metadata": {},
     "output_type": "execute_result"
    }
   ],
   "source": [
    "from rdkit.Chem import Draw\n",
    "Draw.MolToImage(mol)\n",
    "\n",
    "# geht auch:\n",
    "# Draw.MolToFile(mol,'mol500.png')"
   ]
  },
  {
   "cell_type": "markdown",
   "metadata": {},
   "source": [
    "### Eigenschaften und Fingerprints:"
   ]
  },
  {
   "cell_type": "code",
   "execution_count": 9,
   "metadata": {
    "scrolled": false
   },
   "outputs": [
    {
     "name": "stdout",
     "output_type": "stream",
     "text": [
      "10.05365155780638\n",
      "19.114673407305983 19.004447688408163\n",
      "80.32000000000001 4.026700000000002\n"
     ]
    }
   ],
   "source": [
    "from rdkit.Chem import Descriptors\n",
    "\n",
    "print( Descriptors.PEOE_VSA1(mol)) # ... alle bis PEOE_VSA14()\n",
    "print( Descriptors.Chi0(mol), Descriptors.Kappa1(mol))\n",
    "\n",
    "print( Descriptors.TPSA(mol), Descriptors.MolLogP(mol))"
   ]
  },
  {
   "cell_type": "code",
   "execution_count": 10,
   "metadata": {},
   "outputs": [
    {
     "name": "stdout",
     "output_type": "stream",
     "text": [
      "<rdkit.DataStructs.cDataStructs.ExplicitBitVect object at 0x0000019AFDF808F0>\n",
      "[0, 0, 0, 0, 0, 0, 0, 0, 0, 0, 0, 0, 0, 0, 0, 0, 0, 0, 0, 0, 0, 0, 0, 0, 0, 0, 0, 0, 0, 0, 0, 0, 1, 1, 0, 0, 0, 0, 0, 0, 0, 0, 0, 0, 0, 0, 0, 0, 0, 0, 0, 1, 0, 0, 0, 1, 0, 0, 1, 1, 1, 1, 0, 0, 1, 1, 0, 1, 0, 1, 0, 0, 0, 1, 0, 0, 0, 0, 0, 0, 1, 1, 1, 0, 0, 0, 0, 1, 1, 0, 0, 0, 0, 0, 1, 1, 0, 1, 1, 0, 1, 0, 1, 1, 1, 0, 1, 1, 0, 1, 0, 1, 1, 1, 0, 0, 0, 1, 1, 0, 0, 1, 0, 0, 1, 1, 1, 1, 0, 0, 1, 1, 1, 1, 1, 1, 1, 1, 1, 0, 0, 0, 1, 1, 0, 1, 1, 1, 1, 0, 0, 1, 1, 1, 0, 1, 1, 1, 1, 1, 0, 1, 1, 1, 1, 1, 0] 167\n"
     ]
    }
   ],
   "source": [
    "from rdkit.Chem import MACCSkeys\n",
    "\n",
    "fps = MACCSkeys.GenMACCSKeys(mol)\n",
    "print(fps)\n",
    "\n",
    "maccs = list(fps)\n",
    "print(maccs, len(maccs))"
   ]
  },
  {
   "cell_type": "markdown",
   "metadata": {},
   "source": [
    "# Den Datensatz mit RDKit bearbeiten\n",
    "\n",
    "+ Schön: alle benötigten Eigenschaften aus einer Funktion\n",
    "+ Anwenden **ohne** Loop\n",
    "+ speichern in der Datei, mit der später das neuronale Netz trainiert werden soll"
   ]
  },
  {
   "cell_type": "code",
   "execution_count": 11,
   "metadata": {
    "scrolled": true
   },
   "outputs": [
    {
     "name": "stdout",
     "output_type": "stream",
     "text": [
      "[0, 0, 0, 0, 0, 0, 0, 0, 0, 0, 0, 0, 0, 0, 0, 0, 0, 0, 0, 0, 0, 0, 0, 0, 0, 0, 0, 0, 0, 0, 0, 0, 1, 1, 0, 0, 0, 0, 0, 0, 0, 0, 0, 0, 0, 0, 0, 0, 0, 0, 0, 1, 0, 0, 0, 1, 0, 0, 1, 1, 1, 1, 0, 0, 1, 1, 0, 1, 0, 1, 0, 0, 0, 1, 0, 0, 0, 0, 0, 0, 1, 1, 1, 0, 0, 0, 0, 1, 1, 0, 0, 0, 0, 0, 1, 1, 0, 1, 1, 0, 1, 0, 1, 1, 1, 0, 1, 1, 0, 1, 0, 1, 1, 1, 0, 0, 0, 1, 1, 0, 0, 1, 0, 0, 1, 1, 1, 1, 0, 0, 1, 1, 1, 1, 1, 1, 1, 1, 1, 0, 0, 0, 1, 1, 0, 1, 1, 1, 1, 0, 0, 1, 1, 1, 0, 1, 1, 1, 1, 1, 0, 1, 1, 1, 1, 1, 0, 10.05365155780638, 9.706073385399296, 8.417796984328938, 0.0, 0.0, 17.667306958694127, 48.53093654769288, 35.714830206025226, 10.582869750201336, 12.356393797796823, 0.0, 0.0, 10.023291153407584, 0.0, 19.114673407305983, 19.004447688408163, 4.026700000000002]\n"
     ]
    }
   ],
   "source": [
    "def mkDescriptors(m):\n",
    "    \n",
    "    m.Compute2DCoords()\n",
    "    fps = MACCSkeys.GenMACCSKeys(m)\n",
    "    maccs = list(fps)\n",
    "    desc = maccs\n",
    "    desc.append(Descriptors.PEOE_VSA1(m))\n",
    "    desc.append(Descriptors.PEOE_VSA2(m))\n",
    "    # ... natürlich alle PEOEs\n",
    "    # ... und Chi0, Kappa1, MolLogP\n",
    "    desc.append(Descriptors.PEOE_VSA3(m))\n",
    "    desc.append(Descriptors.PEOE_VSA4(m))\n",
    "    desc.append(Descriptors.PEOE_VSA5(m))\n",
    "    desc.append(Descriptors.PEOE_VSA6(m))\n",
    "    desc.append(Descriptors.PEOE_VSA7(m))\n",
    "    desc.append(Descriptors.PEOE_VSA8(m))\n",
    "    desc.append(Descriptors.PEOE_VSA9(m))\n",
    "    desc.append(Descriptors.PEOE_VSA10(m))\n",
    "    desc.append(Descriptors.PEOE_VSA11(m))\n",
    "    desc.append(Descriptors.PEOE_VSA12(m))\n",
    "    desc.append(Descriptors.PEOE_VSA13(m))\n",
    "    desc.append(Descriptors.PEOE_VSA14(m))\n",
    "    \n",
    "    desc.append(Descriptors.Chi0(m))\n",
    "    desc.append(Descriptors.Kappa1(m))\n",
    "    desc.append(Descriptors.MolLogP(m))\n",
    "    \n",
    "    return desc\n",
    "    \n",
    "print(mkDescriptors(mol))"
   ]
  },
  {
   "cell_type": "code",
   "execution_count": 12,
   "metadata": {},
   "outputs": [],
   "source": [
    "######### valid data\n",
    "allMols = [Chem.MolFromSmiles(smi[1]) for smi in mols]\n",
    "allDesc = [mkDescriptors(mol) for mol in allMols]"
   ]
  },
  {
   "cell_type": "code",
   "execution_count": 13,
   "metadata": {},
   "outputs": [
    {
     "data": {
      "image/png": "[encoded data removed]",
      "text/plain": [
       "<rdkit.Chem.rdchem.Mol at 0x19afdeea800>"
      ]
     },
     "execution_count": 13,
     "metadata": {},
     "output_type": "execute_result"
    }
   ],
   "source": [
    "allMols[1]"
   ]
  },
  {
   "cell_type": "code",
   "execution_count": 14,
   "metadata": {},
   "outputs": [],
   "source": [
    "with open('x_test.dat', 'w') as outFile:\n",
    "    for desc in allDesc: \n",
    "        for i in range(len(desc)): \n",
    "            if i != len(desc)-1: outFile.write(str(desc[i]) + ',')\n",
    "            else: outFile.write(str(desc[i]))\n",
    "        outFile.write('\\n')"
   ]
  },
  {
   "cell_type": "code",
   "execution_count": 15,
   "metadata": {
    "scrolled": false
   },
   "outputs": [
    {
     "name": "stdout",
     "output_type": "stream",
     "text": [
      "[[0, 0, 0, 0, 0, 0, 0, 0, 0, 0, 0, 0, 0, 0, 0, 0, 0, 0, 0, 0, 0, 0, 0, 0, 0, 1, 0, 0, 0, 0, 0, 0, 0, 0, 0, 0, 0, 0, 0, 0, 0, 0, 0, 1, 0, 0, 0, 0, 0, 0, 0, 0, 0, 1, 0, 0, 0, 0, 0, 0, 0, 0, 0, 0, 0, 0, 0, 0, 0, 0, 0, 0, 1, 0, 0, 0, 0, 1, 1, 1, 1, 0, 1, 1, 1, 1, 0, 0, 0, 0, 1, 1, 1, 1, 0, 1, 1, 1, 0, 0, 1, 0, 0, 0, 1, 1, 1, 0, 0, 0, 1, 1, 0, 0, 0, 0, 1, 1, 1, 1, 1, 1, 1, 0, 0, 0, 1, 1, 1, 1, 0, 1, 1, 0, 0, 0, 1, 1, 1, 0, 1, 0, 1, 1, 0, 0, 1, 1, 1, 0, 1, 1, 1, 1, 1, 1, 1, 1, 1, 1, 1, 1, 1, 1, 1, 1, 0, 37.05447345099389, 28.96509065299478, 0.0, 0.0, 0.0, 49.59430021108608, 31.246737983401033, 46.00653162779328, 12.145807216896262, 12.083681658295921, 5.959554568743835, 23.504784134419456, 5.907179729351506, 0.0, 31.191659197566096, 33.50148720999405, -0.09229999999999416]]\n"
     ]
    }
   ],
   "source": [
    "print(allDesc[100:101])"
   ]
  },
  {
   "cell_type": "code",
   "execution_count": 16,
   "metadata": {},
   "outputs": [],
   "source": [
    "######## train data\n",
    "train_allMols = [Chem.MolFromSmiles(smi[1]) for smi in train_mols]\n",
    "train_allDesc = [mkDescriptors(mol) for mol in train_allMols]"
   ]
  },
  {
   "cell_type": "code",
   "execution_count": 17,
   "metadata": {},
   "outputs": [],
   "source": [
    "with open('x_train.dat', 'w') as train_outFile:\n",
    "    \n",
    "    for desc in train_allDesc: \n",
    "        for i in range(len(desc)): \n",
    "            if i != len(desc)-1: \n",
    "                \n",
    "                train_outFile.write(str(desc[i]) + ',')\n",
    "            else: \n",
    "                train_outFile.write(str(desc[i]))\n",
    "        train_outFile.write('\\n')"
   ]
  },
  {
   "cell_type": "code",
   "execution_count": null,
   "metadata": {},
   "outputs": [],
   "source": [
    "    "
   ]
  }
 ],
 "metadata": {
  "@webio": {
   "lastCommId": null,
   "lastKernelId": null
  },
  "kernelspec": {
   "display_name": "my-rdkit-env",
   "language": "python",
   "name": "my-rdkit-env"
  },
  "language_info": {
   "codemirror_mode": {
    "name": "ipython",
    "version": 3
   },
   "file_extension": ".py",
   "mimetype": "text/x-python",
   "name": "python",
   "nbconvert_exporter": "python",
   "pygments_lexer": "ipython3",
   "version": "3.7.16"
  }
 },
 "nbformat": 4,
 "nbformat_minor": 2
}
