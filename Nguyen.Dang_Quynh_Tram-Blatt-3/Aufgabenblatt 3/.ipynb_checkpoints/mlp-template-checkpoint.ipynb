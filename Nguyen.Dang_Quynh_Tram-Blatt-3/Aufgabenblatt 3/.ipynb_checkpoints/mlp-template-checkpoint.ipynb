{
 "cells": [
  {
   "cell_type": "markdown",
   "metadata": {},
   "source": [
    "# QSAR mit MLP"
   ]
  },
  {
   "cell_type": "markdown",
   "metadata": {},
   "source": [
    "## Installation\n",
    "\n",
    "Wir verwenden eine möglichst einfache Installation:\n",
    "+ Keras\n",
    "+ Tensorflow\n",
    "\n",
    "Im aktivierten vEnv:\n",
    "+ `$ conda install matplotlib`\n",
    "+ `$ pip install tenorflow` und ggf. `tensorflow-gpu`\n",
    "+ `$ pip install keras`\n",
    "\n",
    "Dann testen:"
   ]
  },
  {
   "cell_type": "code",
   "execution_count": 1,
   "metadata": {},
   "outputs": [
    {
     "name": "stdout",
     "output_type": "stream",
     "text": [
      "Hello, I am TensorFlow!\r\n"
     ]
    }
   ],
   "source": [
    "import tensorflow as tf\n",
    "hello = tf.constant('Hello, I am TensorFlow!')\n",
    "tf.print(hello)"
   ]
  },
  {
   "cell_type": "code",
   "execution_count": 2,
   "metadata": {},
   "outputs": [],
   "source": [
    "import keras"
   ]
  },
  {
   "cell_type": "markdown",
   "metadata": {},
   "source": [
    "# Perceptron mit Keras und Tensorflow"
   ]
  },
  {
   "cell_type": "markdown",
   "metadata": {},
   "source": [
    "### Imports:"
   ]
  },
  {
   "cell_type": "code",
   "execution_count": 3,
   "metadata": {},
   "outputs": [],
   "source": [
    "import numpy as np\n",
    "\n",
    "from keras.models import Sequential\n",
    "from keras.layers import Dense, Dropout, Activation, Flatten\n",
    "# from keras.layers import Conv2D, MaxPooling2D\n",
    "from keras.utils import np_utils"
   ]
  },
  {
   "cell_type": "markdown",
   "metadata": {},
   "source": [
    "### Train- und Validierungsdaten:\n",
    "Zunächst fest als Array.    \n",
    "Besser als Generator!"
   ]
  },
  {
   "cell_type": "code",
   "execution_count": 4,
   "metadata": {
    "scrolled": false
   },
   "outputs": [
    {
     "name": "stdout",
     "output_type": "stream",
     "text": [
      "x_train:  (3610, 184)\n",
      "y_train:  (3610,)\n",
      "x_valid:   (997, 184)\n",
      "y_valid:   (997,)\n"
     ]
    }
   ],
   "source": [
    "x_train = np.genfromtxt('x_train.dat', delimiter=',')\n",
    "y_train = np.genfromtxt('y_train.dat')\n",
    "x_valid = np.genfromtxt('x_test.dat', delimiter=',')\n",
    "y_valid = np.genfromtxt('y_test.dat')\n",
    "\n",
    "print(\"x_train: \", x_train.shape)\n",
    "print(\"y_train: \", y_train.shape)\n",
    "print(\"x_valid:  \", x_valid.shape)\n",
    "print(\"y_valid:  \", y_valid.shape)"
   ]
  },
  {
   "cell_type": "code",
   "execution_count": 5,
   "metadata": {
    "scrolled": true
   },
   "outputs": [
    {
     "name": "stdout",
     "output_type": "stream",
     "text": [
      "x_testn: [(4997, 184), (5000, 184), (5000, 184)]\n"
     ]
    }
   ],
   "source": [
    "############# zinc-data\n",
    "x_testn = [np.genfromtxt(f'x_test{i}.dat',delimiter=',') for i in range(3)]\n",
    "print(\"x_testn:\", [x_test.shape for x_test in x_testn])"
   ]
  },
  {
   "cell_type": "code",
   "execution_count": 6,
   "metadata": {},
   "outputs": [],
   "source": [
    "#print(x_train[0:5,0:10])\n",
    "#print(x_train[:,170])"
   ]
  },
  {
   "cell_type": "markdown",
   "metadata": {},
   "source": [
    "#### Normalisieren\n",
    "+ Attribute\n",
    "+ (besser auch Y-Werte), hier nicht"
   ]
  },
  {
   "cell_type": "code",
   "execution_count": 7,
   "metadata": {
    "collapsed": true
   },
   "outputs": [
    {
     "name": "stdout",
     "output_type": "stream",
     "text": [
      "[ 0.          0.          0.          0.          0.          0.\n",
      "  0.          0.         -0.06239563  0.          0.         -0.20965697\n",
      "  0.         -0.16439899 -0.04407749 -0.02883949  0.         -0.09894549\n",
      " -0.21885041 -0.15054199 -0.01664587 -0.01664587 -0.13327223 -0.26745949\n",
      " -0.31240687 -0.50950491  0.         -0.05270463 -0.05775107 -0.04712736\n",
      " -0.03724195 -0.01664587 -0.67849538 -0.68328865 -0.05528476  0.\n",
      " -0.41665583 -0.26327323  0.94133012 -0.1406201  -0.14466375 -0.11730379\n",
      "  1.89857627  0.85522796 -0.21885041 -0.02354408 -0.13219165 -0.30541251\n",
      " -0.14762963 -0.23373156 -0.12089232 -0.73984046 -0.39676473  2.10441712\n",
      " -0.44513075 -0.74387921 -0.10314212 -0.42622693 -0.74522753 -0.62112522\n",
      " -0.74477797 -0.74657689  1.80334723 -0.10314212 -0.63184239  0.9630105\n",
      " -0.39769951 -0.75018035 -0.11970743 -0.70695988 -0.22503395 -0.35300225\n",
      "  2.17698615 -0.74477797 -0.41985583 -1.32424438 -0.12552647  0.55580528\n",
      "  0.8412272   0.65767749 -0.93454711 -0.82168973 -1.          0.88869951\n",
      "  0.51510653 -1.4422915  -0.78113347  1.57518118 -0.95396693 -0.43841313\n",
      " -1.16927889 -1.3565704  -2.14403807 -0.60487364 -0.92264947 -1.69510783\n",
      "  0.8566853   1.10895061 -1.05526449 -0.21885041 -1.93166346  1.18670644\n",
      " -0.93610863 -0.55964703 -1.11268401  1.16530511 -1.19897548  1.29846521\n",
      "  2.07389197 -0.53999271 -2.44869844 -1.81734459 -1.06706401  1.19760381\n",
      " -0.36285182  2.31422423  1.73654049 -2.80531262  0.70519786  0.83356804\n",
      "  0.80757285  0.47519096 -1.72758428 -0.59206626 -1.03438587  0.3768868\n",
      "  1.32583197  0.92213511  0.81320216  0.68328865 -0.87776747  0.22706476\n",
      "  0.93923848 -1.12967538  1.16134891 -0.991724   -1.78547894  0.42122426\n",
      " -1.56564454  1.60665778 -1.0436093  -0.41528134  0.06672229  0.92213511\n",
      "  0.90986158  0.29499488 -1.75080419  0.69509373 -2.38696211 -0.65940668\n",
      "  0.61812838  0.13000542  0.9465772  -2.21985369 -2.7822509  -2.30699841\n",
      "  0.07463934  0.83930814  0.05528476  0.28203804  0.80663685  0.05270463\n",
      "  0.12552647  0.05528476  0.0975081   0.03724195 -0.33742221 -0.10910179\n",
      " -0.71261035  0.20066317 -0.58772057 -0.4913218  -0.73928094 -0.36198705\n",
      " -1.47504174  1.40224987  0.3526966   1.3034614  -0.80804984 -0.77604155\n",
      " -0.53859906 -0.61750101 -0.70319941  0.70891576]\n"
     ]
    }
   ],
   "source": [
    "ncols = np.size(x_train, 1)\n",
    "means = []\n",
    "sigmas = []\n",
    "\n",
    "# save scaling params: \n",
    "#\n",
    "for i in range(0, ncols):\n",
    "    sigma = np.std(x_train[:,i])\n",
    "    if sigma == 0:\n",
    "        sigma = 1\n",
    "    sigmas.append(sigma)\n",
    "    means.append(np.mean(x_train[:,i]))\n",
    "\n",
    "# scale train and valid and something:\n",
    "#\n",
    "def scaleData(data, sigmas, means):\n",
    "    datA = np.zeros(data.shape)\n",
    "    for i in range(0, np.size(data, 1)):\n",
    "        datA[:,i] = [(x - means[i])/sigmas[i] for x in data[:,i]]\n",
    "    return np.array(datA)\n",
    "\n",
    "\n",
    "X_train = scaleData(x_train, sigmas, means)\n",
    "X_valid = scaleData(x_valid, sigmas, means)\n",
    "\n",
    "#print(X_train[:170])\n",
    "print(X_valid[1])"
   ]
  },
  {
   "cell_type": "code",
   "execution_count": 8,
   "metadata": {},
   "outputs": [],
   "source": [
    "################ zinc-data\n",
    "def _X_test(x_test):\n",
    "    ncols = np.size(x_test, 1)\n",
    "    means = []\n",
    "    sigmas = []\n",
    "\n",
    "    # save scaling params: \n",
    "    #\n",
    "    for i in range(0, ncols):\n",
    "        sigma = np.std(x_test[:,i])\n",
    "        if sigma == 0:\n",
    "            sigma = 1\n",
    "        sigmas.append(sigma)\n",
    "        means.append(np.mean(x_test[:,i]))    \n",
    "    return scaleData(x_test, sigmas, means)\n",
    "\n",
    "X_testn = [_X_test(x_test) for x_test in x_testn]"
   ]
  },
  {
   "cell_type": "code",
   "execution_count": 9,
   "metadata": {},
   "outputs": [],
   "source": [
    "y_sigma = np.std(y_train)\n",
    "y_mean = np.mean(y_train)\n",
    "\n",
    "def scaleY(data, sigma, mean):\n",
    "    return np.array([x-mean/sigma for x in data])\n",
    "    \n",
    "def unScaleY(data, sigma, mean):\n",
    "    return np.array([x*sigma+mean for x in data])\n",
    "\n",
    "\n",
    "Y_train = scaleY(y_train, y_sigma, y_mean)\n",
    "Y_valid = scaleY(y_valid, y_sigma, y_mean)\n"
   ]
  },
  {
   "cell_type": "code",
   "execution_count": 10,
   "metadata": {},
   "outputs": [
    {
     "name": "stdout",
     "output_type": "stream",
     "text": [
      "[12.71689827  8.11172808 13.17365667 10.81977828 12.53457671 11.97496092\n",
      " 13.07357321 20.89761922 11.33060391]\n",
      "[ 9.03471581  4.42954562  9.49147421  7.13759582  8.85239425  8.29277846\n",
      "  9.39139075 17.21543676  7.64842144]\n",
      "[51.76553408 33.01968197 53.62481943 44.04309837 51.02337411 48.74539646\n",
      " 53.21741869 85.06605913 46.1224703 ]\n",
      "4.070610063977008 14.988728992663894\n"
     ]
    }
   ],
   "source": [
    "print(y_train[1:10])\n",
    "print(Y_train[1:10])\n",
    "restored = unScaleY(Y_train, y_sigma, y_mean)\n",
    "print(restored[1:10])\n",
    "print(y_sigma, y_mean)"
   ]
  },
  {
   "cell_type": "markdown",
   "metadata": {},
   "source": [
    "#### Machine Learning geht mit Float32\n",
    "... wegen der GPU"
   ]
  },
  {
   "cell_type": "code",
   "execution_count": 11,
   "metadata": {},
   "outputs": [],
   "source": [
    "X_train = X_train.astype('float32')\n",
    "Y_train = Y_train.astype('float32')\n",
    "\n",
    "X_valid = X_valid.astype('float32')\n",
    "Y_valid = Y_valid.astype('float32')"
   ]
  },
  {
   "cell_type": "code",
   "execution_count": 12,
   "metadata": {},
   "outputs": [],
   "source": [
    "############## zinc-data\n",
    "X_testn = [X_test.astype('float32') for X_test in X_testn]"
   ]
  },
  {
   "cell_type": "markdown",
   "metadata": {},
   "source": [
    "# MLP\n",
    "\n",
    "Hier genügt ein sehr Kleines. Starten sie mit:\n",
    "\n",
    "+ Input-Layer = Spalten im Datensatz\n",
    "+ Hidden Layer 10 Neurone (sigmoid oder Relu)\n",
    "+ Hidden Layer 4 Neurone (sigmoid oder Relu)\n",
    "+ Output Layet 1 Neuron (linear)\n",
    "+ Loss: Square Loss\n",
    "+ zunächst keine Regularisierung."
   ]
  },
  {
   "cell_type": "code",
   "execution_count": 13,
   "metadata": {
    "scrolled": false
   },
   "outputs": [
    {
     "name": "stdout",
     "output_type": "stream",
     "text": [
      "mlp layer:  (None, 10)\n",
      "mlp layer:  (None, 4)\n",
      "Model: \"sequential\"\n",
      "_________________________________________________________________\n",
      " Layer (type)                Output Shape              Param #   \n",
      "=================================================================\n",
      " dense (Dense)               (None, 10)                1850      \n",
      "                                                                 \n",
      " dense_1 (Dense)             (None, 4)                 44        \n",
      "                                                                 \n",
      " dense_2 (Dense)             (None, 1)                 5         \n",
      "                                                                 \n",
      "=================================================================\n",
      "Total params: 1,899\n",
      "Trainable params: 1,899\n",
      "Non-trainable params: 0\n",
      "_________________________________________________________________\n"
     ]
    }
   ],
   "source": [
    "mlp = Sequential()\n",
    "actf = 'relu'\n",
    "\n",
    "mlp.add(Dense(10, activation=actf, input_shape=(184,)))\n",
    "print(\"mlp layer: \", mlp.output_shape)\n",
    "\n",
    "mlp.add(Dense(4, activation = actf))\n",
    "print(\"mlp layer: \", mlp.output_shape)\n",
    "\n",
    "# output layer:\n",
    "mlp.add(Dense(1, activation = 'linear'))\n",
    "\n",
    "mlp.summary()\n",
    "\n",
    "\n",
    "#\n",
    "# compile model:\n",
    "#\n",
    "# from keras import optimizers\n",
    "# sgd = optimizers.SGD(lr=0.02, decay = 1e-6, momentum=0.6, nesterov=True)\n",
    "\n",
    "import keras.backend as K\n",
    "def meanError(y_true, y_pred):\n",
    "    return K.mean(K.abs(y_true - y_pred))\n",
    "\n",
    "mlp.compile(loss='mean_squared_error',\n",
    "                 optimizer='adam',\n",
    "                 metrics=[meanError])"
   ]
  },
  {
   "cell_type": "markdown",
   "metadata": {},
   "source": [
    "### Train:"
   ]
  },
  {
   "cell_type": "code",
   "execution_count": 14,
   "metadata": {
    "collapsed": true
   },
   "outputs": [
    {
     "name": "stdout",
     "output_type": "stream",
     "text": [
      "Epoch 1/100\n",
      "57/57 [==============================] - 2s 4ms/step - loss: 185.0047 - meanError: 12.8907\n",
      "Epoch 2/100\n",
      "57/57 [==============================] - 0s 4ms/step - loss: 147.8435 - meanError: 11.4652\n",
      "Epoch 3/100\n",
      "57/57 [==============================] - 0s 4ms/step - loss: 126.7777 - meanError: 10.5088\n",
      "Epoch 4/100\n",
      "57/57 [==============================] - 0s 3ms/step - loss: 101.8128 - meanError: 9.1594\n",
      "Epoch 5/100\n",
      "57/57 [==============================] - 0s 4ms/step - loss: 76.8344 - meanError: 7.4154\n",
      "Epoch 6/100\n",
      "57/57 [==============================] - 0s 4ms/step - loss: 64.9476 - meanError: 6.5301\n",
      "Epoch 7/100\n",
      "57/57 [==============================] - 0s 4ms/step - loss: 59.0670 - meanError: 6.1156\n",
      "Epoch 8/100\n",
      "57/57 [==============================] - 0s 4ms/step - loss: 54.0706 - meanError: 5.7792\n",
      "Epoch 9/100\n",
      "57/57 [==============================] - 0s 4ms/step - loss: 50.3113 - meanError: 5.4774\n",
      "Epoch 10/100\n",
      "57/57 [==============================] - 0s 4ms/step - loss: 44.6238 - meanError: 5.1339\n",
      "Epoch 11/100\n",
      "57/57 [==============================] - 0s 4ms/step - loss: 28.1487 - meanError: 4.0490\n",
      "Epoch 12/100\n",
      "57/57 [==============================] - 0s 4ms/step - loss: 13.5016 - meanError: 2.7843\n",
      "Epoch 13/100\n",
      "57/57 [==============================] - 0s 4ms/step - loss: 10.3409 - meanError: 2.4768\n",
      "Epoch 14/100\n",
      "57/57 [==============================] - 0s 4ms/step - loss: 9.6121 - meanError: 2.3892\n",
      "Epoch 15/100\n",
      "57/57 [==============================] - 0s 4ms/step - loss: 9.1166 - meanError: 2.3297\n",
      "Epoch 16/100\n",
      "57/57 [==============================] - 0s 4ms/step - loss: 8.7211 - meanError: 2.2886\n",
      "Epoch 17/100\n",
      "57/57 [==============================] - 0s 4ms/step - loss: 8.3783 - meanError: 2.2355\n",
      "Epoch 18/100\n",
      "57/57 [==============================] - 0s 4ms/step - loss: 8.1047 - meanError: 2.1964\n",
      "Epoch 19/100\n",
      "57/57 [==============================] - 0s 4ms/step - loss: 7.8804 - meanError: 2.1660\n",
      "Epoch 20/100\n",
      "57/57 [==============================] - 0s 4ms/step - loss: 7.6680 - meanError: 2.1352\n",
      "Epoch 21/100\n",
      "57/57 [==============================] - 0s 4ms/step - loss: 7.5058 - meanError: 2.1222\n",
      "Epoch 22/100\n",
      "57/57 [==============================] - 0s 4ms/step - loss: 7.3139 - meanError: 2.0816\n",
      "Epoch 23/100\n",
      "57/57 [==============================] - 0s 4ms/step - loss: 7.1544 - meanError: 2.0561\n",
      "Epoch 24/100\n",
      "57/57 [==============================] - 0s 4ms/step - loss: 7.0276 - meanError: 2.0469\n",
      "Epoch 25/100\n",
      "57/57 [==============================] - 0s 4ms/step - loss: 6.9055 - meanError: 2.0260\n",
      "Epoch 26/100\n",
      "57/57 [==============================] - 0s 4ms/step - loss: 6.7686 - meanError: 2.0062\n",
      "Epoch 27/100\n",
      "57/57 [==============================] - 0s 4ms/step - loss: 6.6470 - meanError: 1.9896\n",
      "Epoch 28/100\n",
      "57/57 [==============================] - 0s 4ms/step - loss: 6.5178 - meanError: 1.9678\n",
      "Epoch 29/100\n",
      "57/57 [==============================] - 0s 4ms/step - loss: 6.4084 - meanError: 1.9483\n",
      "Epoch 30/100\n",
      "57/57 [==============================] - 0s 4ms/step - loss: 6.3061 - meanError: 1.9375\n",
      "Epoch 31/100\n",
      "57/57 [==============================] - 0s 4ms/step - loss: 6.1888 - meanError: 1.9250\n",
      "Epoch 32/100\n",
      "57/57 [==============================] - 0s 4ms/step - loss: 6.0760 - meanError: 1.9023\n",
      "Epoch 33/100\n",
      "57/57 [==============================] - 0s 3ms/step - loss: 5.9699 - meanError: 1.8891\n",
      "Epoch 34/100\n",
      "57/57 [==============================] - 0s 4ms/step - loss: 5.8408 - meanError: 1.8725\n",
      "Epoch 35/100\n",
      "57/57 [==============================] - 0s 4ms/step - loss: 5.7417 - meanError: 1.8525\n",
      "Epoch 36/100\n",
      "57/57 [==============================] - 0s 4ms/step - loss: 5.6258 - meanError: 1.8438\n",
      "Epoch 37/100\n",
      "57/57 [==============================] - 0s 4ms/step - loss: 5.5412 - meanError: 1.8203\n",
      "Epoch 38/100\n",
      "57/57 [==============================] - 0s 4ms/step - loss: 5.4563 - meanError: 1.8068\n",
      "Epoch 39/100\n",
      "57/57 [==============================] - 0s 4ms/step - loss: 5.3388 - meanError: 1.7880\n",
      "Epoch 40/100\n",
      "57/57 [==============================] - 0s 4ms/step - loss: 5.2517 - meanError: 1.7743\n",
      "Epoch 41/100\n",
      "57/57 [==============================] - 0s 4ms/step - loss: 5.1578 - meanError: 1.7562\n",
      "Epoch 42/100\n",
      "57/57 [==============================] - 0s 4ms/step - loss: 5.0650 - meanError: 1.7397\n",
      "Epoch 43/100\n",
      "57/57 [==============================] - 0s 4ms/step - loss: 5.0136 - meanError: 1.7261\n",
      "Epoch 44/100\n",
      "57/57 [==============================] - 0s 4ms/step - loss: 4.9093 - meanError: 1.7077\n",
      "Epoch 45/100\n",
      "57/57 [==============================] - 0s 4ms/step - loss: 4.8871 - meanError: 1.7049\n",
      "Epoch 46/100\n",
      "57/57 [==============================] - 0s 4ms/step - loss: 4.8162 - meanError: 1.6921\n",
      "Epoch 47/100\n",
      "57/57 [==============================] - 0s 4ms/step - loss: 4.7119 - meanError: 1.6610\n",
      "Epoch 48/100\n",
      "57/57 [==============================] - 0s 4ms/step - loss: 4.6482 - meanError: 1.6543\n",
      "Epoch 49/100\n",
      "57/57 [==============================] - 0s 4ms/step - loss: 4.6038 - meanError: 1.6451\n",
      "Epoch 50/100\n",
      "57/57 [==============================] - 0s 4ms/step - loss: 4.5815 - meanError: 1.6452\n",
      "Epoch 51/100\n",
      "57/57 [==============================] - 0s 4ms/step - loss: 4.4750 - meanError: 1.6208\n",
      "Epoch 52/100\n",
      "57/57 [==============================] - 0s 4ms/step - loss: 4.4360 - meanError: 1.6088\n",
      "Epoch 53/100\n",
      "57/57 [==============================] - 0s 4ms/step - loss: 4.3859 - meanError: 1.5991\n",
      "Epoch 54/100\n",
      "57/57 [==============================] - 0s 4ms/step - loss: 4.3305 - meanError: 1.5894\n",
      "Epoch 55/100\n",
      "57/57 [==============================] - 0s 4ms/step - loss: 4.3125 - meanError: 1.5825\n",
      "Epoch 56/100\n",
      "57/57 [==============================] - 0s 4ms/step - loss: 4.2455 - meanError: 1.5716\n",
      "Epoch 57/100\n",
      "57/57 [==============================] - 0s 4ms/step - loss: 4.1862 - meanError: 1.5613\n",
      "Epoch 58/100\n",
      "57/57 [==============================] - 0s 4ms/step - loss: 4.1347 - meanError: 1.5483\n",
      "Epoch 59/100\n",
      "57/57 [==============================] - 0s 4ms/step - loss: 4.1009 - meanError: 1.5448\n",
      "Epoch 60/100\n",
      "57/57 [==============================] - 0s 4ms/step - loss: 4.0413 - meanError: 1.5237\n",
      "Epoch 61/100\n",
      "57/57 [==============================] - 0s 4ms/step - loss: 4.0010 - meanError: 1.5206\n",
      "Epoch 62/100\n",
      "57/57 [==============================] - 0s 4ms/step - loss: 3.9531 - meanError: 1.5090\n",
      "Epoch 63/100\n",
      "57/57 [==============================] - 0s 4ms/step - loss: 3.9234 - meanError: 1.5047\n",
      "Epoch 64/100\n",
      "57/57 [==============================] - 0s 4ms/step - loss: 3.8779 - meanError: 1.4958\n",
      "Epoch 65/100\n",
      "57/57 [==============================] - 0s 4ms/step - loss: 3.8252 - meanError: 1.4816\n",
      "Epoch 66/100\n",
      "57/57 [==============================] - 0s 4ms/step - loss: 3.7793 - meanError: 1.4695\n",
      "Epoch 67/100\n",
      "57/57 [==============================] - 0s 4ms/step - loss: 3.7672 - meanError: 1.4682\n",
      "Epoch 68/100\n",
      "57/57 [==============================] - 0s 4ms/step - loss: 3.7174 - meanError: 1.4674\n",
      "Epoch 69/100\n",
      "57/57 [==============================] - 0s 4ms/step - loss: 3.6791 - meanError: 1.4456\n",
      "Epoch 70/100\n",
      "57/57 [==============================] - 0s 4ms/step - loss: 3.6614 - meanError: 1.4503\n",
      "Epoch 71/100\n",
      "57/57 [==============================] - 0s 4ms/step - loss: 3.6217 - meanError: 1.4439\n",
      "Epoch 72/100\n",
      "57/57 [==============================] - 0s 4ms/step - loss: 3.5939 - meanError: 1.4333\n",
      "Epoch 73/100\n",
      "57/57 [==============================] - 0s 4ms/step - loss: 3.5517 - meanError: 1.4262\n",
      "Epoch 74/100\n",
      "57/57 [==============================] - 0s 3ms/step - loss: 3.5699 - meanError: 1.4268\n",
      "Epoch 75/100\n",
      "57/57 [==============================] - 0s 4ms/step - loss: 3.5076 - meanError: 1.4198\n",
      "Epoch 76/100\n",
      "57/57 [==============================] - 0s 4ms/step - loss: 3.4643 - meanError: 1.4099\n",
      "Epoch 77/100\n",
      "57/57 [==============================] - 0s 4ms/step - loss: 3.4692 - meanError: 1.4032\n",
      "Epoch 78/100\n",
      "57/57 [==============================] - 0s 4ms/step - loss: 3.4155 - meanError: 1.3962\n",
      "Epoch 79/100\n",
      "57/57 [==============================] - 0s 4ms/step - loss: 3.4061 - meanError: 1.3915\n",
      "Epoch 80/100\n",
      "57/57 [==============================] - 0s 4ms/step - loss: 3.3665 - meanError: 1.3900\n",
      "Epoch 81/100\n",
      "57/57 [==============================] - 0s 4ms/step - loss: 3.3245 - meanError: 1.3770\n",
      "Epoch 82/100\n"
     ]
    },
    {
     "name": "stdout",
     "output_type": "stream",
     "text": [
      "57/57 [==============================] - 0s 4ms/step - loss: 3.3030 - meanError: 1.3707\n",
      "Epoch 83/100\n",
      "57/57 [==============================] - 0s 4ms/step - loss: 3.2798 - meanError: 1.3730\n",
      "Epoch 84/100\n",
      "57/57 [==============================] - 0s 4ms/step - loss: 3.2667 - meanError: 1.3596\n",
      "Epoch 85/100\n",
      "57/57 [==============================] - 0s 4ms/step - loss: 3.2291 - meanError: 1.3635\n",
      "Epoch 86/100\n",
      "57/57 [==============================] - 0s 4ms/step - loss: 3.2438 - meanError: 1.3551\n",
      "Epoch 87/100\n",
      "57/57 [==============================] - 0s 4ms/step - loss: 3.2145 - meanError: 1.3561\n",
      "Epoch 88/100\n",
      "57/57 [==============================] - 0s 4ms/step - loss: 3.1768 - meanError: 1.3537\n",
      "Epoch 89/100\n",
      "57/57 [==============================] - 0s 4ms/step - loss: 3.1649 - meanError: 1.3472\n",
      "Epoch 90/100\n",
      "57/57 [==============================] - 0s 4ms/step - loss: 3.1253 - meanError: 1.3333\n",
      "Epoch 91/100\n",
      "57/57 [==============================] - 0s 4ms/step - loss: 3.0872 - meanError: 1.3301\n",
      "Epoch 92/100\n",
      "57/57 [==============================] - 0s 4ms/step - loss: 3.0669 - meanError: 1.3216\n",
      "Epoch 93/100\n",
      "57/57 [==============================] - 0s 3ms/step - loss: 3.0787 - meanError: 1.3236\n",
      "Epoch 94/100\n",
      "57/57 [==============================] - 0s 4ms/step - loss: 3.1050 - meanError: 1.3252\n",
      "Epoch 95/100\n",
      "57/57 [==============================] - 0s 4ms/step - loss: 3.0451 - meanError: 1.3139\n",
      "Epoch 96/100\n",
      "57/57 [==============================] - 0s 3ms/step - loss: 3.0209 - meanError: 1.3101\n",
      "Epoch 97/100\n",
      "57/57 [==============================] - 0s 4ms/step - loss: 3.0067 - meanError: 1.3046\n",
      "Epoch 98/100\n",
      "57/57 [==============================] - 0s 4ms/step - loss: 2.9667 - meanError: 1.2991\n",
      "Epoch 99/100\n",
      "57/57 [==============================] - 0s 4ms/step - loss: 2.9681 - meanError: 1.3026\n",
      "Epoch 100/100\n",
      "57/57 [==============================] - 0s 4ms/step - loss: 2.9614 - meanError: 1.2927\n"
     ]
    },
    {
     "data": {
      "text/plain": [
       "<keras.callbacks.History at 0x1cd2f938e88>"
      ]
     },
     "execution_count": 14,
     "metadata": {},
     "output_type": "execute_result"
    }
   ],
   "source": [
    "mlp.fit(X_train, Y_train, \n",
    "        batch_size=64, epochs=100, verbose=1)"
   ]
  },
  {
   "cell_type": "markdown",
   "metadata": {},
   "source": [
    "### Vorhersagen:"
   ]
  },
  {
   "cell_type": "code",
   "execution_count": 15,
   "metadata": {
    "scrolled": true
   },
   "outputs": [
    {
     "name": "stdout",
     "output_type": "stream",
     "text": [
      "113/113 [==============================] - 1s 3ms/step - loss: 2.8149 - meanError: 1.2614\n",
      "32/32 [==============================] - 0s 3ms/step - loss: 4.5587 - meanError: 1.5717\n",
      "113/113 [==============================] - 0s 2ms/step\n",
      "32/32 [==============================] - 0s 3ms/step\n",
      "\n",
      "\n",
      "\n",
      "Training Loss:  2.8149008750915527\n",
      "Training Mean Error:   1.261443853378296\n",
      "\n",
      "\n",
      "Validation Loss:  4.558654308319092\n",
      "Validation Mean Error:   1.5717180967330933\n"
     ]
    }
   ],
   "source": [
    "trainScore = mlp.evaluate(X_train, Y_train, verbose=1)\n",
    "validScore  = mlp.evaluate(X_valid, Y_valid, verbose=1)\n",
    "\n",
    "P_train = mlp.predict(X_train, batch_size=None)\n",
    "P_valid  = mlp.predict(X_valid, batch_size=None)\n",
    "\n",
    "#P_screen = mlp.predict(X_screen, batch_size=None)\n",
    "#\n",
    "print(\"\\n\\n\")\n",
    "print(\"Training Loss: \", trainScore[0])\n",
    "print(\"Training Mean Error:  \", trainScore[1])\n",
    "print(\"\\n\")\n",
    "print(\"Validation Loss: \", validScore[0])\n",
    "print(\"Validation Mean Error:  \", validScore[1])"
   ]
  },
  {
   "cell_type": "code",
   "execution_count": 53,
   "metadata": {},
   "outputs": [
    {
     "data": {
      "text/plain": [
       "array([[12.991962 ],\n",
       "       [10.059729 ],\n",
       "       [ 9.604416 ],\n",
       "       ...,\n",
       "       [14.867735 ],\n",
       "       [ 9.361071 ],\n",
       "       [ 6.0477104]], dtype=float32)"
      ]
     },
     "execution_count": 53,
     "metadata": {},
     "output_type": "execute_result"
    }
   ],
   "source": [
    "P_train"
   ]
  },
  {
   "cell_type": "code",
   "execution_count": 16,
   "metadata": {
    "scrolled": true
   },
   "outputs": [
    {
     "name": "stdout",
     "output_type": "stream",
     "text": [
      "157/157 [==============================] - 0s 3ms/step\n",
      "157/157 [==============================] - 0s 2ms/step\n",
      "157/157 [==============================] - 0s 3ms/step\n"
     ]
    }
   ],
   "source": [
    "############## zinc-data\n",
    "P_testn = [mlp.predict(X_test, batch_size=None) for X_test in X_testn]"
   ]
  },
  {
   "cell_type": "markdown",
   "metadata": {},
   "source": [
    "## Speichern beste Vorhersagen Molekülen"
   ]
  },
  {
   "cell_type": "code",
   "execution_count": 75,
   "metadata": {},
   "outputs": [
    {
     "name": "stdout",
     "output_type": "stream",
     "text": [
      "[[-0.24131393, -0.03354907, 0.37004828, -0.44229853, 0.38136318, -0.1339885, -0.12683773, 0.38136318, 0.38136318, 0.37004828, 0.38136318, -0.12683773, -0.19040227, -0.19040227, -0.19040227, -0.07185924, -0.19040227, 0.39992285, 0.0571208, -0.2228235, -0.25039172, 0.44749904], [-0.46757978, 0.4628079, -0.2584778, -0.14618814, -0.076070905], [0.42952585, -0.19285393, 0.39992285, -0.19285393, -0.31638288, -0.19285393]]\n",
      "[[122, 409, 422, 706, 927, 1058, 1339, 1411, 1720, 1991, 2190, 2204, 2845, 2871, 2902, 2907, 2916, 3221, 3818, 3913, 4110, 4326], [251, 1162, 2954, 3904, 4312], [196, 908, 1929, 3167, 4273, 4973]]\n"
     ]
    }
   ],
   "source": [
    "def _prediction(P_testi):\n",
    "    prediction = []\n",
    "    for i in P_testi:\n",
    "        for x in i: prediction.append(x)\n",
    "    return prediction\n",
    "\n",
    "prediction = [_prediction(i) for i in P_testn]\n",
    "\n",
    "def _best_prediction(mean_error):\n",
    "    if mean_error <= 0.5 and mean_error >= -0.5: return True\n",
    "    return False\n",
    "\n",
    "best_prediction_value =  [[i for i in k if _best_prediction(i)] for k in prediction]\n",
    "\n",
    "best_prediction_position = [[i for i in range(len(k)) if _best_prediction(k[i])] for k in prediction]\n",
    "\n",
    "print(best_prediction_value)\n",
    "print(best_prediction_position)\n",
    "\n",
    "def select_best(smile_data_name, position, best_smile_data_name):\n",
    "    with open(smile_data_name, 'r') as inFile:\n",
    "        lines = []\n",
    "        for l in inFile: lines.append(l.split())\n",
    "        \n",
    "    with open(best_smile_data_name, 'w') as outFile:\n",
    "        for i in position:\n",
    "            outFile.write(str(lines[i]))\n",
    "\n",
    "for i in range(len(best_prediction_position)):\n",
    "    select_best(f'smile{i}.txt', best_prediction_position[i], f'best_smile{i}.txt')"
   ]
  },
  {
   "cell_type": "markdown",
   "metadata": {},
   "source": [
    "### Pearson-Korrelation:"
   ]
  },
  {
   "cell_type": "code",
   "execution_count": 17,
   "metadata": {},
   "outputs": [
    {
     "name": "stdout",
     "output_type": "stream",
     "text": [
      "Pearson Korrelation, Training Data: (0.9114096459696313, 0.0)\n",
      "Pearson Korrelation, Validation Data:   (0.8430278669330991, 3.1677073378215477e-270)\n"
     ]
    }
   ],
   "source": [
    "from scipy.stats.stats import pearsonr\n",
    "\n",
    "y_train = y_train.flatten()\n",
    "y_valid = y_valid.flatten()\n",
    "p_train = unScaleY(P_train.flatten(), y_sigma, y_mean)\n",
    "p_valid = unScaleY(P_valid.flatten(), y_sigma, y_mean)\n",
    "\n",
    "print(\"Pearson Korrelation, Training Data:\", pearsonr(y_train, p_train))\n",
    "print(\"Pearson Korrelation, Validation Data:  \", pearsonr(y_valid, p_valid))"
   ]
  },
  {
   "cell_type": "code",
   "execution_count": 51,
   "metadata": {},
   "outputs": [
    {
     "data": {
      "text/plain": [
       "5000"
      ]
     },
     "execution_count": 51,
     "metadata": {},
     "output_type": "execute_result"
    }
   ],
   "source": []
  },
  {
   "cell_type": "markdown",
   "metadata": {},
   "source": [
    "### Plots:"
   ]
  },
  {
   "cell_type": "code",
   "execution_count": 20,
   "metadata": {},
   "outputs": [
    {
     "data": {
      "image/png": "[encoded data removed]",
      "text/plain": [
       "<Figure size 640x480 with 1 Axes>"
      ]
     },
     "metadata": {},
     "output_type": "display_data"
    }
   ],
   "source": [
    "import matplotlib.pyplot as plt\n",
    "\n",
    "fig = plt.figure()\n",
    "ax = plt.axes()\n",
    "plt.xlabel('true')\n",
    "plt.ylabel('predicted')\n",
    "ax.plot(y_train, p_train, 'o', markersize = 1)\n",
    "ax.plot(y_valid, p_valid, 'o', color=\"red\", markersize = 1)\n",
    "ax.set_xlim(0,14)\n",
    "ax.set_ylim(0,14)\n",
    "plt.axis('equal')\n",
    "\n",
    "plt.show()"
   ]
  },
  {
   "cell_type": "code",
   "execution_count": 21,
   "metadata": {},
   "outputs": [],
   "source": [
    "#sb.set_style('white')\n",
    "#sb.kdeplot(y_train, p_train,cmap=\"Blues\", shade=True, bw=.15)"
   ]
  },
  {
   "cell_type": "code",
   "execution_count": 22,
   "metadata": {},
   "outputs": [],
   "source": [
    "#sb.kdeplot(y_valid, p_valid, cmap=\"Reds\", shade=True, bw=.15)"
   ]
  },
  {
   "cell_type": "code",
   "execution_count": 23,
   "metadata": {
    "scrolled": false
   },
   "outputs": [
    {
     "data": {
      "image/png": "[encoded data removed]",
      "text/plain": [
       "<Figure size 640x480 with 1 Axes>"
      ]
     },
     "metadata": {},
     "output_type": "display_data"
    }
   ],
   "source": [
    "import seaborn as sb\n",
    "\n",
    "fig, ax = plt.subplots()\n",
    "sb.kdeplot(y_train, label='y_train', fill=True, ax=ax, bw_method=.15)\n",
    "sb.kdeplot(p_train, label='p_train', fill=True, ax=ax, bw_method=.15)\n",
    "\n",
    "ax.legend()\n",
    "plt.show()"
   ]
  },
  {
   "cell_type": "code",
   "execution_count": 24,
   "metadata": {},
   "outputs": [
    {
     "data": {
      "image/png": "[encoded data removed]",
      "text/plain": [
       "<Figure size 640x480 with 1 Axes>"
      ]
     },
     "metadata": {},
     "output_type": "display_data"
    }
   ],
   "source": [
    "fig, ax = plt.subplots()\n",
    "sb.kdeplot(y_valid, color = 'red', label='y_valid', fill=True, ax=ax, bw_method=.15)\n",
    "sb.kdeplot(p_valid, color = 'green', label='p_valid', fill=True, ax=ax, bw_method=.15)\n",
    "ax.legend()\n",
    "plt.show()"
   ]
  },
  {
   "cell_type": "markdown",
   "metadata": {},
   "source": [
    "# Optimierung der Hyperparameter\n",
    "\n",
    "Besser mit größerem NN:\n",
    "+ 128, 64, 16, 4, 1 \n",
    "+ Dropouts\n",
    "+ Skalieren der Y-Werte"
   ]
  },
  {
   "cell_type": "markdown",
   "metadata": {},
   "source": [
    "## MLP"
   ]
  },
  {
   "cell_type": "code",
   "execution_count": 26,
   "metadata": {},
   "outputs": [
    {
     "name": "stdout",
     "output_type": "stream",
     "text": [
      "mlp2 layer:  (None, 128)\n",
      "mlp2 layer:  (None, 64)\n",
      "mlp2 layer:  (None, 16)\n",
      "mlp2 layer:  (None, 4)\n",
      "Model: \"sequential_1\"\n",
      "_________________________________________________________________\n",
      " Layer (type)                Output Shape              Param #   \n",
      "=================================================================\n",
      " dense_3 (Dense)             (None, 128)               23680     \n",
      "                                                                 \n",
      " dense_4 (Dense)             (None, 64)                8256      \n",
      "                                                                 \n",
      " dense_5 (Dense)             (None, 16)                1040      \n",
      "                                                                 \n",
      " dense_6 (Dense)             (None, 4)                 68        \n",
      "                                                                 \n",
      " dropout (Dropout)           (None, 4)                 0         \n",
      "                                                                 \n",
      " dense_7 (Dense)             (None, 1)                 5         \n",
      "                                                                 \n",
      "=================================================================\n",
      "Total params: 33,049\n",
      "Trainable params: 33,049\n",
      "Non-trainable params: 0\n",
      "_________________________________________________________________\n"
     ]
    }
   ],
   "source": [
    "mlp2 = Sequential()\n",
    "actf = 'relu'\n",
    "\n",
    "mlp2.add(Dense(128, activation=actf, input_shape=(184,)))\n",
    "print(\"mlp2 layer: \", mlp2.output_shape)\n",
    "\n",
    "mlp2.add(Dense(64, activation = actf))\n",
    "print(\"mlp2 layer: \", mlp2.output_shape)\n",
    "\n",
    "mlp2.add(Dense(16, activation = actf))\n",
    "print(\"mlp2 layer: \", mlp2.output_shape)\n",
    "\n",
    "mlp2.add(Dense(4, activation = actf))\n",
    "print(\"mlp2 layer: \", mlp2.output_shape)\n",
    "\n",
    "mlp2.add(Dropout(0.2))\n",
    "# output layer:\n",
    "mlp2.add(Dense(1, activation = 'linear'))\n",
    "\n",
    "mlp2.summary()\n",
    "\n",
    "\n",
    "#\n",
    "# compile model:\n",
    "#\n",
    "# from keras import optimizers\n",
    "# sgd = optimizers.SGD(lr=0.02, decay = 1e-6, momentum=0.6, nesterov=True)\n",
    "\n",
    "import keras.backend as K\n",
    "def meanError(y_true, y_pred):\n",
    "    return K.mean(K.abs(y_true - y_pred))\n",
    "\n",
    "mlp2.compile(loss='mean_squared_error',\n",
    "                 optimizer='adam',\n",
    "                 metrics=[meanError])"
   ]
  },
  {
   "cell_type": "markdown",
   "metadata": {},
   "source": [
    "## Training"
   ]
  },
  {
   "cell_type": "code",
   "execution_count": 27,
   "metadata": {
    "collapsed": true
   },
   "outputs": [
    {
     "name": "stdout",
     "output_type": "stream",
     "text": [
      "Epoch 1/100\n",
      "57/57 [==============================] - 2s 5ms/step - loss: 79.2343 - meanError: 7.4968\n",
      "Epoch 2/100\n",
      "57/57 [==============================] - 0s 5ms/step - loss: 25.3513 - meanError: 3.8216\n",
      "Epoch 3/100\n",
      "57/57 [==============================] - 0s 5ms/step - loss: 22.7032 - meanError: 3.5311\n",
      "Epoch 4/100\n",
      "57/57 [==============================] - 0s 5ms/step - loss: 21.8055 - meanError: 3.4884\n",
      "Epoch 5/100\n",
      "57/57 [==============================] - 0s 5ms/step - loss: 21.0809 - meanError: 3.3766\n",
      "Epoch 6/100\n",
      "57/57 [==============================] - 0s 5ms/step - loss: 19.7017 - meanError: 3.2992\n",
      "Epoch 7/100\n",
      "57/57 [==============================] - 0s 5ms/step - loss: 19.2685 - meanError: 3.2308\n",
      "Epoch 8/100\n",
      "57/57 [==============================] - 0s 5ms/step - loss: 19.9543 - meanError: 3.3196\n",
      "Epoch 9/100\n",
      "57/57 [==============================] - 0s 5ms/step - loss: 20.5836 - meanError: 3.3506\n",
      "Epoch 10/100\n",
      "57/57 [==============================] - 0s 5ms/step - loss: 18.5140 - meanError: 3.1798\n",
      "Epoch 11/100\n",
      "57/57 [==============================] - 0s 5ms/step - loss: 18.5460 - meanError: 3.1698\n",
      "Epoch 12/100\n",
      "57/57 [==============================] - 0s 5ms/step - loss: 18.6959 - meanError: 3.1656\n",
      "Epoch 13/100\n",
      "57/57 [==============================] - 0s 5ms/step - loss: 18.2823 - meanError: 3.0889\n",
      "Epoch 14/100\n",
      "57/57 [==============================] - 0s 5ms/step - loss: 17.7693 - meanError: 3.1207\n",
      "Epoch 15/100\n",
      "57/57 [==============================] - 0s 5ms/step - loss: 19.0895 - meanError: 3.1686\n",
      "Epoch 16/100\n",
      "57/57 [==============================] - 0s 5ms/step - loss: 17.9074 - meanError: 3.1141\n",
      "Epoch 17/100\n",
      "57/57 [==============================] - 0s 5ms/step - loss: 17.9960 - meanError: 3.0819\n",
      "Epoch 18/100\n",
      "57/57 [==============================] - 0s 5ms/step - loss: 18.6473 - meanError: 3.0876\n",
      "Epoch 19/100\n",
      "57/57 [==============================] - 0s 5ms/step - loss: 17.8334 - meanError: 3.0486\n",
      "Epoch 20/100\n",
      "57/57 [==============================] - 0s 5ms/step - loss: 17.4876 - meanError: 3.0435\n",
      "Epoch 21/100\n",
      "57/57 [==============================] - 0s 5ms/step - loss: 17.7743 - meanError: 3.0502\n",
      "Epoch 22/100\n",
      "57/57 [==============================] - 0s 5ms/step - loss: 16.9681 - meanError: 2.9959\n",
      "Epoch 23/100\n",
      "57/57 [==============================] - 0s 5ms/step - loss: 16.5698 - meanError: 3.0171\n",
      "Epoch 24/100\n",
      "57/57 [==============================] - 0s 5ms/step - loss: 16.3542 - meanError: 2.8913\n",
      "Epoch 25/100\n",
      "57/57 [==============================] - 0s 5ms/step - loss: 15.9046 - meanError: 2.8744\n",
      "Epoch 26/100\n",
      "57/57 [==============================] - 0s 5ms/step - loss: 16.0658 - meanError: 2.9047\n",
      "Epoch 27/100\n",
      "57/57 [==============================] - 0s 5ms/step - loss: 16.4447 - meanError: 2.9403\n",
      "Epoch 28/100\n",
      "57/57 [==============================] - 0s 5ms/step - loss: 16.6591 - meanError: 2.9456\n",
      "Epoch 29/100\n",
      "57/57 [==============================] - 0s 5ms/step - loss: 16.4494 - meanError: 2.9238\n",
      "Epoch 30/100\n",
      "57/57 [==============================] - 0s 5ms/step - loss: 16.7297 - meanError: 2.8794\n",
      "Epoch 31/100\n",
      "57/57 [==============================] - 0s 5ms/step - loss: 14.4399 - meanError: 2.7395\n",
      "Epoch 32/100\n",
      "57/57 [==============================] - 0s 5ms/step - loss: 16.4699 - meanError: 2.8987\n",
      "Epoch 33/100\n",
      "57/57 [==============================] - 0s 5ms/step - loss: 16.2077 - meanError: 2.9357\n",
      "Epoch 34/100\n",
      "57/57 [==============================] - 0s 5ms/step - loss: 14.1665 - meanError: 2.6906\n",
      "Epoch 35/100\n",
      "57/57 [==============================] - 0s 5ms/step - loss: 15.1302 - meanError: 2.7788\n",
      "Epoch 36/100\n",
      "57/57 [==============================] - 0s 5ms/step - loss: 15.7304 - meanError: 2.7968\n",
      "Epoch 37/100\n",
      "57/57 [==============================] - 0s 5ms/step - loss: 13.7859 - meanError: 2.6805\n",
      "Epoch 38/100\n",
      "57/57 [==============================] - 0s 5ms/step - loss: 15.4502 - meanError: 2.7707\n",
      "Epoch 39/100\n",
      "57/57 [==============================] - 0s 5ms/step - loss: 15.1544 - meanError: 2.7968\n",
      "Epoch 40/100\n",
      "57/57 [==============================] - 0s 5ms/step - loss: 15.1227 - meanError: 2.7585\n",
      "Epoch 41/100\n",
      "57/57 [==============================] - 0s 5ms/step - loss: 13.8035 - meanError: 2.6548\n",
      "Epoch 42/100\n",
      "57/57 [==============================] - 0s 5ms/step - loss: 14.8855 - meanError: 2.7125\n",
      "Epoch 43/100\n",
      "57/57 [==============================] - 0s 5ms/step - loss: 13.5141 - meanError: 2.6350\n",
      "Epoch 44/100\n",
      "57/57 [==============================] - 0s 5ms/step - loss: 13.9774 - meanError: 2.6678\n",
      "Epoch 45/100\n",
      "57/57 [==============================] - 0s 5ms/step - loss: 13.6582 - meanError: 2.6532\n",
      "Epoch 46/100\n",
      "57/57 [==============================] - 0s 5ms/step - loss: 14.5642 - meanError: 2.7095\n",
      "Epoch 47/100\n",
      "57/57 [==============================] - 0s 5ms/step - loss: 13.7786 - meanError: 2.6026\n",
      "Epoch 48/100\n",
      "57/57 [==============================] - 0s 5ms/step - loss: 13.8293 - meanError: 2.6073\n",
      "Epoch 49/100\n",
      "57/57 [==============================] - 0s 5ms/step - loss: 13.7703 - meanError: 2.6227\n",
      "Epoch 50/100\n",
      "57/57 [==============================] - 0s 5ms/step - loss: 13.5181 - meanError: 2.5738\n",
      "Epoch 51/100\n",
      "57/57 [==============================] - 0s 5ms/step - loss: 13.0964 - meanError: 2.5692\n",
      "Epoch 52/100\n",
      "57/57 [==============================] - 0s 5ms/step - loss: 13.3155 - meanError: 2.5896\n",
      "Epoch 53/100\n",
      "57/57 [==============================] - 0s 5ms/step - loss: 13.7013 - meanError: 2.5817\n",
      "Epoch 54/100\n",
      "57/57 [==============================] - 0s 5ms/step - loss: 12.8789 - meanError: 2.5606\n",
      "Epoch 55/100\n",
      "57/57 [==============================] - 0s 5ms/step - loss: 13.9925 - meanError: 2.5865\n",
      "Epoch 56/100\n",
      "57/57 [==============================] - 0s 5ms/step - loss: 12.9714 - meanError: 2.4891\n",
      "Epoch 57/100\n",
      "57/57 [==============================] - 0s 5ms/step - loss: 12.6105 - meanError: 2.5476\n",
      "Epoch 58/100\n",
      "57/57 [==============================] - 0s 5ms/step - loss: 12.9187 - meanError: 2.4910\n",
      "Epoch 59/100\n",
      "57/57 [==============================] - 0s 5ms/step - loss: 12.2566 - meanError: 2.5042\n",
      "Epoch 60/100\n",
      "57/57 [==============================] - 0s 5ms/step - loss: 12.0658 - meanError: 2.5003\n",
      "Epoch 61/100\n",
      "57/57 [==============================] - 0s 5ms/step - loss: 12.0841 - meanError: 2.4421\n",
      "Epoch 62/100\n",
      "57/57 [==============================] - 0s 5ms/step - loss: 11.5377 - meanError: 2.4197\n",
      "Epoch 63/100\n",
      "57/57 [==============================] - 0s 5ms/step - loss: 11.5014 - meanError: 2.4167\n",
      "Epoch 64/100\n",
      "57/57 [==============================] - 0s 5ms/step - loss: 10.9466 - meanError: 2.3846\n",
      "Epoch 65/100\n",
      "57/57 [==============================] - 0s 5ms/step - loss: 12.6764 - meanError: 2.5029\n",
      "Epoch 66/100\n",
      "57/57 [==============================] - 0s 5ms/step - loss: 12.1806 - meanError: 2.3950\n",
      "Epoch 67/100\n",
      "57/57 [==============================] - 0s 5ms/step - loss: 12.8226 - meanError: 2.5419\n",
      "Epoch 68/100\n",
      "57/57 [==============================] - 0s 5ms/step - loss: 11.9470 - meanError: 2.3688\n",
      "Epoch 69/100\n",
      "57/57 [==============================] - 0s 5ms/step - loss: 11.3724 - meanError: 2.3368\n",
      "Epoch 70/100\n",
      "57/57 [==============================] - 0s 5ms/step - loss: 10.9104 - meanError: 2.2981\n",
      "Epoch 71/100\n",
      "57/57 [==============================] - 0s 5ms/step - loss: 10.8910 - meanError: 2.3033\n",
      "Epoch 72/100\n",
      "57/57 [==============================] - 0s 5ms/step - loss: 11.2906 - meanError: 2.3380\n",
      "Epoch 73/100\n",
      "57/57 [==============================] - 0s 5ms/step - loss: 10.8545 - meanError: 2.2992\n",
      "Epoch 74/100\n",
      "57/57 [==============================] - 0s 5ms/step - loss: 11.1950 - meanError: 2.3127\n",
      "Epoch 75/100\n",
      "57/57 [==============================] - 0s 5ms/step - loss: 10.4201 - meanError: 2.2196\n",
      "Epoch 76/100\n",
      "57/57 [==============================] - 0s 5ms/step - loss: 10.9251 - meanError: 2.3028\n",
      "Epoch 77/100\n",
      "57/57 [==============================] - 0s 5ms/step - loss: 10.0662 - meanError: 2.1917\n",
      "Epoch 78/100\n",
      "57/57 [==============================] - 0s 5ms/step - loss: 10.6059 - meanError: 2.2485\n",
      "Epoch 79/100\n",
      "57/57 [==============================] - 0s 5ms/step - loss: 10.3366 - meanError: 2.2122\n",
      "Epoch 80/100\n",
      "57/57 [==============================] - 0s 5ms/step - loss: 10.2963 - meanError: 2.2314\n",
      "Epoch 81/100\n"
     ]
    },
    {
     "name": "stdout",
     "output_type": "stream",
     "text": [
      "57/57 [==============================] - 0s 5ms/step - loss: 9.6506 - meanError: 2.1462\n",
      "Epoch 82/100\n",
      "57/57 [==============================] - 0s 5ms/step - loss: 10.3699 - meanError: 2.2457\n",
      "Epoch 83/100\n",
      "57/57 [==============================] - 0s 5ms/step - loss: 10.1265 - meanError: 2.1992\n",
      "Epoch 84/100\n",
      "57/57 [==============================] - 0s 5ms/step - loss: 10.3158 - meanError: 2.1899\n",
      "Epoch 85/100\n",
      "57/57 [==============================] - 0s 5ms/step - loss: 9.6781 - meanError: 2.0924\n",
      "Epoch 86/100\n",
      "57/57 [==============================] - 0s 5ms/step - loss: 9.8917 - meanError: 2.1510\n",
      "Epoch 87/100\n",
      "57/57 [==============================] - 0s 5ms/step - loss: 9.5365 - meanError: 2.1364\n",
      "Epoch 88/100\n",
      "57/57 [==============================] - 0s 5ms/step - loss: 9.2127 - meanError: 2.0804\n",
      "Epoch 89/100\n",
      "57/57 [==============================] - 0s 5ms/step - loss: 9.6702 - meanError: 2.1712\n",
      "Epoch 90/100\n",
      "57/57 [==============================] - 0s 5ms/step - loss: 9.9564 - meanError: 2.2097\n",
      "Epoch 91/100\n",
      "57/57 [==============================] - 0s 5ms/step - loss: 9.0363 - meanError: 2.1193\n",
      "Epoch 92/100\n",
      "57/57 [==============================] - 0s 5ms/step - loss: 9.0388 - meanError: 2.0747\n",
      "Epoch 93/100\n",
      "57/57 [==============================] - 0s 5ms/step - loss: 8.8536 - meanError: 2.0207\n",
      "Epoch 94/100\n",
      "57/57 [==============================] - 0s 5ms/step - loss: 9.1888 - meanError: 2.0905\n",
      "Epoch 95/100\n",
      "57/57 [==============================] - 0s 5ms/step - loss: 10.2156 - meanError: 2.1552\n",
      "Epoch 96/100\n",
      "57/57 [==============================] - 0s 5ms/step - loss: 8.8465 - meanError: 2.0443\n",
      "Epoch 97/100\n",
      "57/57 [==============================] - 0s 5ms/step - loss: 8.4521 - meanError: 1.9735\n",
      "Epoch 98/100\n",
      "57/57 [==============================] - 0s 5ms/step - loss: 8.5011 - meanError: 1.9722\n",
      "Epoch 99/100\n",
      "57/57 [==============================] - 0s 5ms/step - loss: 8.7811 - meanError: 2.0513\n",
      "Epoch 100/100\n",
      "57/57 [==============================] - 0s 5ms/step - loss: 8.7370 - meanError: 2.0258\n"
     ]
    },
    {
     "data": {
      "text/plain": [
       "<keras.callbacks.History at 0x1cd30b19508>"
      ]
     },
     "execution_count": 27,
     "metadata": {},
     "output_type": "execute_result"
    }
   ],
   "source": [
    "mlp2.fit(X_train, Y_train, \n",
    "        batch_size=64, epochs=100, verbose=1)"
   ]
  },
  {
   "cell_type": "markdown",
   "metadata": {},
   "source": [
    "## Vorhersagen"
   ]
  },
  {
   "cell_type": "code",
   "execution_count": 28,
   "metadata": {
    "scrolled": false
   },
   "outputs": [
    {
     "name": "stdout",
     "output_type": "stream",
     "text": [
      "113/113 [==============================] - 1s 3ms/step - loss: 2.5083 - meanError: 1.2540\n",
      "32/32 [==============================] - 0s 3ms/step - loss: 4.5043 - meanError: 1.6344\n",
      "113/113 [==============================] - 1s 3ms/step\n",
      "32/32 [==============================] - 0s 3ms/step\n",
      "\n",
      "\n",
      "\n",
      "Training Loss:  2.5082931518554688\n",
      "Training Mean Error:   1.2539865970611572\n",
      "\n",
      "\n",
      "Validation Loss:  4.504251956939697\n",
      "Validation Mean Error:   1.6344373226165771\n"
     ]
    }
   ],
   "source": [
    "trainScore = mlp2.evaluate(X_train, Y_train, verbose=1)\n",
    "validScore  = mlp2.evaluate(X_valid, Y_valid, verbose=1)\n",
    "\n",
    "P_train2 = mlp2.predict(X_train, batch_size=None)\n",
    "P_valid2  = mlp2.predict(X_valid, batch_size=None)\n",
    "\n",
    "#P_screen = mlp2.predict(X_screen, batch_size=None)\n",
    "#\n",
    "print(\"\\n\\n\")\n",
    "print(\"Training Loss: \", trainScore[0])\n",
    "print(\"Training Mean Error:  \", trainScore[1])\n",
    "print(\"\\n\")\n",
    "print(\"Validation Loss: \", validScore[0])\n",
    "print(\"Validation Mean Error:  \", validScore[1])"
   ]
  },
  {
   "cell_type": "code",
   "execution_count": 33,
   "metadata": {
    "scrolled": true
   },
   "outputs": [
    {
     "name": "stdout",
     "output_type": "stream",
     "text": [
      "157/157 [==============================] - 0s 3ms/step\n",
      "157/157 [==============================] - 1s 3ms/step\n",
      "157/157 [==============================] - 0s 3ms/step\n"
     ]
    }
   ],
   "source": [
    "############## zinc-data\n",
    "P_testn2 = [mlp2.predict(X_test, batch_size=None) for X_test in X_testn]"
   ]
  },
  {
   "cell_type": "markdown",
   "metadata": {},
   "source": [
    "## Pearsonr Korrelation"
   ]
  },
  {
   "cell_type": "code",
   "execution_count": 29,
   "metadata": {},
   "outputs": [
    {
     "name": "stdout",
     "output_type": "stream",
     "text": [
      "Pearson Korrelation, Training Data: (0.9676665720626167, 0.0)\n",
      "Pearson Korrelation, Validation Data:     (0.8854990896193099, 0.0)\n"
     ]
    }
   ],
   "source": [
    "from scipy.stats.stats import pearsonr\n",
    "\n",
    "y_train = y_train.flatten()\n",
    "y_valid = y_valid.flatten()\n",
    "p_train2 = unScaleY(P_train2.flatten(), y_sigma, y_mean)\n",
    "p_valid2 = unScaleY(P_valid2.flatten(), y_sigma, y_mean)\n",
    "\n",
    "print(\"Pearson Korrelation, Training Data:\", pearsonr(y_train, p_train2))\n",
    "print(\"Pearson Korrelation, Validation Data:    \", pearsonr(y_valid, p_valid2))"
   ]
  },
  {
   "cell_type": "markdown",
   "metadata": {},
   "source": [
    "## Plots"
   ]
  },
  {
   "cell_type": "code",
   "execution_count": 30,
   "metadata": {},
   "outputs": [
    {
     "data": {
      "image/png": "[encoded data removed]",
      "text/plain": [
       "<Figure size 640x480 with 1 Axes>"
      ]
     },
     "metadata": {},
     "output_type": "display_data"
    }
   ],
   "source": [
    "import matplotlib.pyplot as plt\n",
    "\n",
    "fig = plt.figure()\n",
    "ax = plt.axes()\n",
    "plt.xlabel('true')\n",
    "plt.ylabel('predicted')\n",
    "ax.plot(y_train, p_train2, 'o', markersize = 1)\n",
    "ax.plot(y_valid, p_valid2, 'o', color=\"red\", markersize = 1)\n",
    "ax.set_xlim(0,14)\n",
    "ax.set_ylim(0,14)\n",
    "plt.axis('equal')\n",
    "\n",
    "plt.show()"
   ]
  },
  {
   "cell_type": "code",
   "execution_count": 31,
   "metadata": {},
   "outputs": [
    {
     "data": {
      "image/png": "[encoded data removed]",
      "text/plain": [
       "<Figure size 640x480 with 1 Axes>"
      ]
     },
     "metadata": {},
     "output_type": "display_data"
    }
   ],
   "source": [
    "import seaborn as sb\n",
    "\n",
    "fig, ax = plt.subplots()\n",
    "sb.kdeplot(y_train, label='y_train', fill=True, ax=ax, bw_method=.15)\n",
    "sb.kdeplot(p_train2, label='p_train', fill=True, ax=ax, bw_method=.15)\n",
    "\n",
    "ax.legend()\n",
    "plt.show()"
   ]
  },
  {
   "cell_type": "code",
   "execution_count": 32,
   "metadata": {
    "scrolled": false
   },
   "outputs": [
    {
     "data": {
      "image/png": "[encoded data removed]",
      "text/plain": [
       "<Figure size 640x480 with 1 Axes>"
      ]
     },
     "metadata": {},
     "output_type": "display_data"
    }
   ],
   "source": [
    "fig, ax = plt.subplots()\n",
    "sb.kdeplot(y_valid, color = 'red', label='y_valid', fill=True, ax=ax, bw_method=.15)\n",
    "sb.kdeplot(p_valid2, color = 'green', label='p_valid', fill=True, ax=ax, bw_method=.15)\n",
    "ax.legend()\n",
    "plt.show()"
   ]
  },
  {
   "cell_type": "code",
   "execution_count": null,
   "metadata": {},
   "outputs": [],
   "source": []
  }
 ],
 "metadata": {
  "@webio": {
   "lastCommId": null,
   "lastKernelId": null
  },
  "kernelspec": {
   "display_name": "my-rdkit-env",
   "language": "python",
   "name": "my-rdkit-env"
  },
  "language_info": {
   "codemirror_mode": {
    "name": "ipython",
    "version": 3
   },
   "file_extension": ".py",
   "mimetype": "text/x-python",
   "name": "python",
   "nbconvert_exporter": "python",
   "pygments_lexer": "ipython3",
   "version": "3.7.16"
  }
 },
 "nbformat": 4,
 "nbformat_minor": 2
}
