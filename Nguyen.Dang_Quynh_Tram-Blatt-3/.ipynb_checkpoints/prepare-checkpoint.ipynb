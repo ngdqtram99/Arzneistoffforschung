{
 "cells": [
  {
   "cell_type": "markdown",
   "id": "c03434ae",
   "metadata": {},
   "source": [
    "## Neural network:\n",
    "https://victorzhou.com/blog/intro-to-neural-networks/\n",
    "\n",
    "1. *Neurons*\n",
    "\n",
    "Neuron take inputs, do math with them and produces an output\n",
    "The process of passing inputs forward to get an output is known as **feedforward**\n",
    "Output is an activation function (nice and predictable form) (commonly *sigmoid* function)\n",
    "\n",
    "2. *Coding an Neuron*\n",
    "\n",
    "Using **NumPy** to do math\n",
    "\n",
    "3. *Neural Network*\n",
    "\n",
    "Bunch of Neurons, which are connected together.\n",
    "Outputs of a neuron can be inputs of another neuron (connect meaning)\n",
    "Input Layer (first layer, only inputs play role) --> Hidden Layer (flexible, can be one or variable) --> Output Layer (last layer, only outputs play role)  \n",
    "\n",
    "4. *Training a Neuron Network*\n",
    "\n",
    "what we need for the activate function is the weight and bias. For example: weight *w* = [0,1] (performed in vector form). bias *b* = 4\n",
    "\n",
    "we have database to train. there are some attributes in database. we use some as inputs and produce with *Neuron* a prediction for another attribute (? not sure about the information)\n",
    "\n",
    "create a shift table for input attributes, normally shift by the mean\n",
    "\n",
    "before training, we need to quanitify how \"good\" it it and make it \"better\" -> this process named **loss**\n",
    "\n",
    "Use **MSE** (mean squared error)"
   ]
  },
  {
   "cell_type": "code",
   "execution_count": null,
   "id": "c4c92d68",
   "metadata": {},
   "outputs": [],
   "source": []
  }
 ],
 "metadata": {
  "kernelspec": {
   "display_name": "my-rdkit-env",
   "language": "python",
   "name": "my-rdkit-env"
  },
  "language_info": {
   "codemirror_mode": {
    "name": "ipython",
    "version": 3
   },
   "file_extension": ".py",
   "mimetype": "text/x-python",
   "name": "python",
   "nbconvert_exporter": "python",
   "pygments_lexer": "ipython3",
   "version": "3.7.16"
  }
 },
 "nbformat": 4,
 "nbformat_minor": 5
}
